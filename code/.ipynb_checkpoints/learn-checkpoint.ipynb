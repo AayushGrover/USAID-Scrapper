{
 "cells": [
  {
   "cell_type": "markdown",
   "id": "c1694390-16d4-4449-9ffb-0723c7c9edd9",
   "metadata": {},
   "source": [
    "**Learn**"
   ]
  },
  {
   "cell_type": "code",
   "execution_count": 94,
   "id": "13c03a36-8760-449d-acdd-1b03b49c7a47",
   "metadata": {},
   "outputs": [],
   "source": [
    "import config\n",
    "from autoscraper import AutoScraper \n",
    "import datetime\n",
    "import pickle\n",
    "from deepdiff import DeepDiff\n",
    "from tqdm import tqdm\n",
    "from functools import reduce\n",
    "import operator\n",
    "from collections import defaultdict"
   ]
  },
  {
   "cell_type": "code",
   "execution_count": 2,
   "id": "7d0721bc-2ebc-4351-82c2-baa00b649051",
   "metadata": {},
   "outputs": [],
   "source": [
    "menu_scraper = AutoScraper()\n",
    "for url, wanted_list in config.DATA:\n",
    "    menu_scraper.build(url=url,wanted_list=wanted_list)"
   ]
  },
  {
   "cell_type": "code",
   "execution_count": 3,
   "id": "8053b895-e1db-4c7b-a961-f4b9e352391f",
   "metadata": {},
   "outputs": [],
   "source": [
    "sub_urls = menu_scraper.get_result_similar(config.BASE_URL)"
   ]
  },
  {
   "cell_type": "code",
   "execution_count": 4,
   "id": "acb5f8ce-e336-451e-80c0-70e065bd40e0",
   "metadata": {},
   "outputs": [],
   "source": [
    "links_scraper = AutoScraper()\n",
    "for url,wanted_list in config.LINKS_DATA:\n",
    "    links_scraper.build(url=url,wanted_list=wanted_list,update=True)"
   ]
  },
  {
   "cell_type": "code",
   "execution_count": 5,
   "id": "c8927bb4-cfa1-49b1-9ee6-83fd7a0431fe",
   "metadata": {},
   "outputs": [
    {
     "data": {
      "text/plain": [
       "['/documents/initiative-strengthen-local-administrations-isla',\n",
       " '/documents/assistance-development-afghan-legal-access-and-transparency-adalat',\n",
       " '/documents/conflict-mitigation-assistance-civilians-comac',\n",
       " '/documents/electoral-support-project-esp',\n",
       " '/afghanistan/fact-sheets/strengthening-peace-building-conflict-resolution-and-governance-0',\n",
       " '/news-information/press-releases/apr-21-2022-administrator-power-meeting-harjit-sajjan-minister-development-canada',\n",
       " '/news-information/press-releases/mar-31-2022-united-states-provides-nearly-204-million-new-funding-address',\n",
       " '/news-information/press-releases/mar-14-2022-administrator-samantha-power-meeting-united-nations-office-project-services',\n",
       " '/news-information/press-releases/feb-25-2022-new-general-license-20-authorizing-certain-afghanistan-transactions',\n",
       " '/news-information/press-releases/jan-12-2022-samantha-power-meeting-un-world-food-program-beasley',\n",
       " 'https://www.usaid.gov/documents/initiative-strengthen-local-administrations-isla',\n",
       " 'https://www.usaid.gov/documents/assistance-development-afghan-legal-access-and-transparency-adalat',\n",
       " 'https://www.usaid.gov/documents/conflict-mitigation-assistance-civilians-comac',\n",
       " 'https://www.usaid.gov/documents/electoral-support-project-esp',\n",
       " 'https://www.usaid.gov/afghanistan/fact-sheets/strengthening-peace-building-conflict-resolution-and-governance-0',\n",
       " 'https://www.usaid.gov/news-information/press-releases/apr-21-2022-administrator-power-meeting-harjit-sajjan-minister-development-canada',\n",
       " 'https://www.usaid.gov/news-information/press-releases/mar-31-2022-united-states-provides-nearly-204-million-new-funding-address',\n",
       " 'https://www.usaid.gov/news-information/press-releases/mar-14-2022-administrator-samantha-power-meeting-united-nations-office-project-services',\n",
       " 'https://www.usaid.gov/news-information/press-releases/feb-25-2022-new-general-license-20-authorizing-certain-afghanistan-transactions',\n",
       " 'https://www.usaid.gov/news-information/press-releases/jan-12-2022-samantha-power-meeting-un-world-food-program-beasley',\n",
       " '1',\n",
       " '2',\n",
       " '3']"
      ]
     },
     "execution_count": 5,
     "metadata": {},
     "output_type": "execute_result"
    }
   ],
   "source": [
    "links_scraper.get_result_similar('https://www.usaid.gov/afghanistan/newsroom')"
   ]
  },
  {
   "cell_type": "code",
   "execution_count": 6,
   "id": "59c001e4-6e58-4143-8c83-5d17b0e1f3ea",
   "metadata": {},
   "outputs": [],
   "source": [
    "table_scraper = AutoScraper()"
   ]
  },
  {
   "cell_type": "code",
   "execution_count": null,
   "id": "70ae59cf-6730-4b6f-a461-6fee1bbfb9b5",
   "metadata": {},
   "outputs": [],
   "source": [
    "with open('learnt_scrapers.pkl','wb') as f:\n",
    "    pickle.dump([menu_scraper,links_scraper],f)"
   ]
  },
  {
   "cell_type": "markdown",
   "id": "087bb7c6-cd2e-4fe3-a59f-626070c272c2",
   "metadata": {},
   "source": [
    "**Fetch**"
   ]
  },
  {
   "cell_type": "code",
   "execution_count": 126,
   "id": "d80ba182-4f09-49ec-9c13-599ca44d30c2",
   "metadata": {},
   "outputs": [],
   "source": [
    "fetch_base_url = 'https://www.usaid.gov/'\n",
    "fetch_exts = ['afghanistan','bangladesh','burma','cambodia','india',\n",
    "              'indonesia','laos','maldives','mongolia','nepal', \n",
    "              'sri-lanka','thailand','vietnam','asia-regional']"
   ]
  },
  {
   "cell_type": "code",
   "execution_count": 127,
   "id": "5d45c3db-b245-47dd-b3e4-8d90e43c086c",
   "metadata": {},
   "outputs": [],
   "source": [
    "def fetch_results(fetch_base_url, fetch_exts, menu_scraper, links_scraper):\n",
    "    \n",
    "    results_tree = dict()\n",
    "    \n",
    "    for ext in tqdm(fetch_exts):\n",
    "        results_tree[ext] = dict()\n",
    "        fetch_url = fetch_base_url+ext\n",
    "        menu_results = [result for result in menu_scraper.get_result_similar(fetch_url) if 'http' in result and 'www' in result]\n",
    "\n",
    "        for option in menu_results:\n",
    "            menu_option_results = [result for result in links_scraper.get_result_similar(option) if 'http' in result or result.isdigit()]\n",
    "            menu_option_pages = [result for result in menu_option_results if result.isdigit()]\n",
    "            if menu_option_pages != []:\n",
    "                menu_option_pages = map(int, menu_option_pages)\n",
    "                menu_option_pages = [page_num - 1 for page_num in menu_option_pages] \n",
    "                add_results = [links_scraper.get_result_similar(option + f'?page={page_num}') for page_num in menu_option_pages if page_num!=0]\n",
    "                add_results_flat = [result for result_list in add_results for result in result_list]\n",
    "                add_results_fil = [result for result in add_results_flat if 'http' in result]\n",
    "                menu_option_results.extend(add_results_fil)\n",
    "            menu_option_results_fil = [result for result in menu_option_results if not result.isdigit()]\n",
    "            results_tree[ext][option] = menu_option_results_fil\n",
    "    return results_tree"
   ]
  },
  {
   "cell_type": "code",
   "execution_count": 128,
   "id": "55db4302-2309-4ad8-811d-0999701a9a97",
   "metadata": {},
   "outputs": [
    {
     "name": "stderr",
     "output_type": "stream",
     "text": [
      "100%|█████████████████████████████████████████████| 7/7 [03:14<00:00, 27.79s/it]\n"
     ]
    }
   ],
   "source": [
    "results_tree = fetch_results(fetch_base_url,fetch_exts[:7],menu_scraper,links_scraper)"
   ]
  },
  {
   "cell_type": "code",
   "execution_count": 129,
   "id": "869aad7a-5696-40a4-bb67-8b66162a6b2d",
   "metadata": {},
   "outputs": [],
   "source": [
    "def prune_results(results_tree):\n",
    "    result_tree_pruned = dict()\n",
    "    for m_k,m_v in results_tree.items():\n",
    "        result_tree_pruned[m_k] = dict()\n",
    "        for o_k,o_v in m_v.items():\n",
    "            val_list = [val for val_list in result_tree_pruned[m_k].values() for val in val_list]\n",
    "            new_o_v = [v for v in o_v if v not in val_list]\n",
    "            result_tree_pruned[m_k][o_k] = new_o_v\n",
    "    return result_tree_pruned"
   ]
  },
  {
   "cell_type": "code",
   "execution_count": 130,
   "id": "29d34f18-adfd-4e6c-ae52-be47f6a5d598",
   "metadata": {},
   "outputs": [],
   "source": [
    "results_tree_pruned = prune_results(results_tree)"
   ]
  },
  {
   "cell_type": "code",
   "execution_count": 131,
   "id": "d1db7f57-af0b-40b4-bfd1-71130728d262",
   "metadata": {},
   "outputs": [],
   "source": [
    "with open('last_saved_data.pkl','wb') as f:\n",
    "    pickle.dump(results_tree_pruned,f)"
   ]
  },
  {
   "cell_type": "code",
   "execution_count": 132,
   "id": "3335cbaa-af6a-47a4-8dde-e58694c9c2d6",
   "metadata": {},
   "outputs": [],
   "source": [
    "with open('last_saved_data.pkl','rb') as f:\n",
    "    last_results = pickle.load(f)"
   ]
  },
  {
   "cell_type": "code",
   "execution_count": 133,
   "id": "ac75b429-4202-4633-a335-6f997d780562",
   "metadata": {},
   "outputs": [
    {
     "name": "stderr",
     "output_type": "stream",
     "text": [
      "100%|███████████████████████████████████████████| 14/14 [03:34<00:00, 15.30s/it]\n"
     ]
    }
   ],
   "source": [
    "results_tree = fetch_results(fetch_base_url,fetch_exts,menu_scraper,links_scraper)\n",
    "results_tree_pruned = prune_results(results_tree)"
   ]
  },
  {
   "cell_type": "code",
   "execution_count": 137,
   "id": "4a83cc46-8cd6-42b0-9c5d-103f71690fdf",
   "metadata": {},
   "outputs": [],
   "source": [
    "diff_results = DeepDiff(last_results,results_tree_pruned,ignore_order=True)"
   ]
  },
  {
   "cell_type": "code",
   "execution_count": 138,
   "id": "1fa1de1b-07ab-475d-9d64-28b686bc42cc",
   "metadata": {},
   "outputs": [],
   "source": [
    "dict1 = {'afg':{'menu_1':['val2','val1'],'menu_2':['val_1'],'menu_3':['val_1']}}\n",
    "dict2 = {'afg':{'menu_1':['val1']}}\n",
    "# dict2 = {'afg':{'menu_1':['val2','val1'],'menu2':['val2']}}\n",
    "test_diff = DeepDiff(dict2,dict1,ignore_order=True)"
   ]
  },
  {
   "cell_type": "code",
   "execution_count": 139,
   "id": "3604b192-9c93-4ac3-828d-bd98b9cb36da",
   "metadata": {},
   "outputs": [
    {
     "data": {
      "text/plain": [
       "{'dictionary_item_added': [root['maldives'], root['mongolia'], root['nepal'], root['sri-lanka'], root['thailand'], root['vietnam'], root['asia-regional']]}"
      ]
     },
     "execution_count": 139,
     "metadata": {},
     "output_type": "execute_result"
    }
   ],
   "source": [
    "diff_results"
   ]
  },
  {
   "cell_type": "code",
   "execution_count": 140,
   "id": "2c5979ce-4ba3-4cb4-815a-50786f325ee7",
   "metadata": {},
   "outputs": [],
   "source": [
    "def getFromDict(dataDict, mapList):\n",
    "    return reduce(operator.getitem, mapList, dataDict)\n",
    "\n",
    "def setInDict(dataDict, mapList, value):\n",
    "    getFromDict(dataDict, mapList[:-1])[mapList[-1]] = value"
   ]
  },
  {
   "cell_type": "code",
   "execution_count": 141,
   "id": "bdfd8e3e-f910-44c9-86be-b5c9b7206a66",
   "metadata": {},
   "outputs": [],
   "source": [
    "def convert(added_str, added_dict, results_dict, key, value=None):\n",
    "    if key == 'dictionary_item_added':\n",
    "        added_str = added_str.replace('root','')\n",
    "        added_str = added_str.replace('[','')\n",
    "        added_str = added_str.replace(\"'\",'')\n",
    "        keys = added_str.split(']')[:-1]\n",
    "        \n",
    "        value = getFromDict(results_dict,keys)\n",
    "        setInDict(added_dict, keys, value)\n",
    "    \n",
    "    elif key == 'iterable_item_added':\n",
    "        flag=0\n",
    "        added_str = added_str.replace('root','')\n",
    "        added_str = added_str.replace('[','')\n",
    "        added_str = added_str.replace(\"'\",'')\n",
    "        keys = added_str.split(']')[:-1]\n",
    "        try:\n",
    "            value = getFromDict(added_dict,keys[:-1])\n",
    "            print(value)\n",
    "            flag=1\n",
    "        except:\n",
    "            flag=0\n",
    "        if flag==1:\n",
    "            updated_value = value.append(added_val)\n",
    "            setInDict(added_dict, keys[:-1], updated_value)\n",
    "        elif flag==0:\n",
    "            setInDict(added_dict, keys[:-1], [value])"
   ]
  },
  {
   "cell_type": "code",
   "execution_count": 142,
   "id": "9a61d263-4740-420c-b43c-fed559e631a1",
   "metadata": {},
   "outputs": [],
   "source": [
    "added_keys = {'dictionary_item_added','iterable_item_added'}\n",
    "added_dict = defaultdict(dict)\n",
    "for key in added_keys:\n",
    "    try:\n",
    "        diff_results[key]\n",
    "    except:\n",
    "        continue\n",
    "    if key == 'dictionary_item_added':\n",
    "        for added_str in diff_results[key]:\n",
    "            convert(added_str,added_dict, results_tree_pruned, key)\n",
    "    elif key == 'iterable_item_added':\n",
    "        for added_str, added_val in diff_results[key].items():\n",
    "            convert(added_str,added_dict, results_tree_pruned, key, value=added_val)"
   ]
  },
  {
   "cell_type": "code",
   "execution_count": 144,
   "id": "9579d519-09a1-4f57-ad20-4e57ee7bb9df",
   "metadata": {},
   "outputs": [
    {
     "data": {
      "text/plain": [
       "{'maldives': {'https://www.usaid.gov/maldives/history': ['https://www.usaid.gov/maldives/press-releases/oct-27-2021-united-states-provides-additional-2-million-urgent-covid-19',\n",
       "   'https://www.usaid.gov/maldives/press-releases/aug-9-2021-us-donates-128700-pfizer-biontech-covid-19-vaccines',\n",
       "   'https://www.usaid.gov/maldives/press-releases/july-15-2021-us-donates-100000-rapid-diagnostic-tests-maldives-early',\n",
       "   'https://www.usaid.gov/news-information/press-releases/jun-25-2021-administrator-samantha-power-call-maldives-foreign-minister',\n",
       "   'https://www.usaid.gov/news-information/press-releases/jun-18-2021-usaid-sends-emergency-covid-19-aid-nepal-and-pakistan'],\n",
       "  'https://www.usaid.gov/maldives/newsroom': ['https://www.usaid.gov/maldives/press-releases/mar-15-2022-united-states-launches-5-year-10-point-5m-climate-change',\n",
       "   'https://www.usaid.gov/maldives/documents/fact-sheet-governance',\n",
       "   'https://www.usaid.gov/maldives/vacancy-announcements/05-21-usaid-project-management-specialist-maldives-fsn-10',\n",
       "   'https://www.usaid.gov/maldives/our-stories/aug-2021-learning-adapt-climate-change-maldives',\n",
       "   'https://www.usaid.gov/maldives/documents/fact-sheet-country-profile',\n",
       "   'https://www.usaid.gov/maldives/documents/fact-sheet-economic-growth',\n",
       "   'https://www.usaid.gov/maldives/documents/fact-sheet-public-financial-management',\n",
       "   'https://www.usaid.gov/maldives/documents/fact-sheet-promoting-resilience-maldives-prime',\n",
       "   'https://www.usaid.gov/maldives/documents/fact-sheet-strong-and-inclusive-maldivian-democracy',\n",
       "   'https://www.usaid.gov/maldives/documents/fact-sheet-clean-cities-blue-ocean',\n",
       "   'https://www.usaid.gov/maldives/documents/fact-sheet-climate-change-adaptation',\n",
       "   'https://www.usaid.gov/maldives/documents/fact-sheet-regenerate',\n",
       "   'https://www.usaid.gov/maldives/documents/fact-sheet-environment',\n",
       "   'https://www.usaid.gov/maldives/documents/fact-sheet-governance-and-vulnerable-populations'],\n",
       "  'https://www.usaid.gov/maldives/our-work': [],\n",
       "  'https://www.usaid.gov/maldives/economic-growth-and-trade': [],\n",
       "  'https://www.usaid.gov/maldives/environment-and-global-climate-change': [],\n",
       "  'https://www.usaid.gov/maldives/democracy-and-governance': []},\n",
       " 'mongolia': {'https://www.usaid.gov/mongolia/history': ['https://www.usaid.gov/mongolia/press-releases/3-29-2022-new-us-assistance-strengthen-mongolia-capacity-prepare-natural-hazards',\n",
       "   'https://www.usaid.gov/regional-development-mission-asia/press-releases/feb-28-2022-usaid-launches-cybersecurity-awareness-campaign',\n",
       "   'https://www.usaid.gov/mongolia/press-releases/11-15-2021-us-government-provides-3million-support-greater-food',\n",
       "   'https://www.usaid.gov/mongolia/press-releases/united-states-provides-additional-37-million-urgent-covid-19-assistance-mongolia',\n",
       "   'https://www.usaid.gov/mongolia/press-releases/united-states-provides-additional-700-million-mnt-combat-covid-19-in-mongolia/mn'],\n",
       "  'https://www.usaid.gov/mongolia/work-with-us/partnership-opportunities': [],\n",
       "  'https://www.usaid.gov/mongolia/newsroom': ['https://www.usaid.gov/mongolia/press-releases/united-states-provides-additional-700-million-mnt-combat-covid-19-in-mongolia',\n",
       "   'https://www.usaid.gov/mongolia/press-releases/may-4-2021-usaid-workshop-fosters-discussion-among-members-mongolia-parliament-increasing-citizen-engagement',\n",
       "   'https://www.usaid.gov/mongolia/documents/rfq-evaluation-lead-mongolia-activity-solicitation-number-72043821q00001',\n",
       "   'https://www.usaid.gov/mongolia/press-releases/apr-13-2021-us-government-initiates-tughrik-13-billion-program-for-health-workers-support-mongolia-effort-combat-covid19',\n",
       "   'https://www.usaid.gov/mongolia/speeches/mar-24-2020-us-ambassador-michael-klecheski-announcement-us-government-assistance-covid-19',\n",
       "   'https://www.usaid.gov/mongolia/documents/country-profile',\n",
       "   'https://www.usaid.gov/documents/1861/mongolia-country-profile-pdf-1',\n",
       "   'https://www.usaid.gov/documents/1861/mongolia-country-profile-pdf-0',\n",
       "   'https://www.usaid.gov/documents/1861/mongolia-country-profile-pdf'],\n",
       "  'https://www.usaid.gov/mongolia/newsroom/press-releases': []},\n",
       " 'nepal': {'https://www.usaid.gov/nepal/history': ['https://www.usaid.gov/nepal/vacancy-announcement/22-01-project-management-specialist-infectious-disease-fsnpsc-11',\n",
       "   'https://www.usaid.gov/news-information/press-releases/jun-18-2021-usaid-sends-emergency-covid-19-aid-nepal-and-pakistan',\n",
       "   'https://www.usaid.gov/news-information/press-releases/may-20-2021-usaid-airlifts-urgent-health-supplies-combat-deadly-covid-19-surge',\n",
       "   'https://www.usaid.gov/nepal/press-releases/apr-30-2021-united-states-provides-additional-funding-support-nepal-second-wave-covid-19'],\n",
       "  'http://www.usaid.gov/results-data/success-stories/grid?field_radio=2&cid%5B%5D=2209': [],\n",
       "  'https://www.usaid.gov/nepal/our-work/': ['https://www.usaid.gov/sites/default/files/documents/NEPAL_Country_Profile_March_2022.pdf'],\n",
       "  'https://www.usaid.gov/nepal/our-work': [],\n",
       "  'https://www.usaid.gov/nepal/newsroom': ['https://www.usaid.gov/nepal/documents/country-profile',\n",
       "   'https://www.usaid.gov/documents/22-02-acquisition-and-assistance-specialist-fsnpsc-09-11',\n",
       "   'https://www.usaid.gov/nepal/vacancy-announcement/72036722R00004-us-personal-services-contractor-supply-chain-management-scm-advisor-gs-14',\n",
       "   'https://www.usaid.gov/nepal/vacancy-announcement/project-management-specialist-governance-and-accountability-fsnpsc-11',\n",
       "   'https://www.usaid.gov/nepal/vacancy-announcement/travelprocurement-assistant-fsnpsc-8',\n",
       "   'https://www.usaid.gov/nepal/vacancy-announcement/development-outreach-and-communications-doc-specialist-resident-hire',\n",
       "   'https://www.usaid.gov/nepal/success-stories/oct-7-2021-usaid-education-program-inspires-priti-kumari-grade-2-student-nepal-become',\n",
       "   'https://www.usaid.gov/humanitarian-assistance/documents/usaid-bha-nepal-assistance-overview-july-2021',\n",
       "   'https://www.usaid.gov/nepal/documents/country-development-cooperation-strategy-cdcs-nepal-2020-2025',\n",
       "   'https://www.usaid.gov/nepal/fact-sheets/sajhedari-support-federalism',\n",
       "   'https://www.usaid.gov/nepal/fact-sheets/physical-rehabilitation-activity',\n",
       "   'https://www.usaid.gov/documents/1861/nepal-country-profile-1',\n",
       "   'https://www.usaid.gov/nepal/fact-sheets/sustaining-health-outcomes-through-private-sector-shops-plus',\n",
       "   'https://www.usaid.gov/documents/1865/fact-sheet-paani-program'],\n",
       "  'https://www.usaid.gov/nepal/work-with-us': ['http://www.usaid.gov/nepal/partnership-opportunities'],\n",
       "  'https://www.usaid.gov/nepal/agriculture-and-food-security': [],\n",
       "  'https://www.usaid.gov/nepal/global-health': [],\n",
       "  'https://www.usaid.gov/nepal/newsroom/press-releases': [],\n",
       "  'https://www.usaid.gov/nepal/partnership-opportunities': [],\n",
       "  'https://www.usaid.gov/nepal/careers': [],\n",
       "  'https://www.usaid.gov/nepal/democracy-human-rights-and-governance': [],\n",
       "  'https://www.usaid.gov/nepal/earthquake-reconstruction-disaster-resilience': [],\n",
       "  'https://www.usaid.gov/nepal/economic-growth-and-trade': [],\n",
       "  'https://www.usaid.gov/nepal/education': [],\n",
       "  'https://www.usaid.gov/nepal/environment-and-global-climate-change': [],\n",
       "  'https://www.usaid.gov/nepal/newsroom/fact-sheets': [],\n",
       "  'https://www.usaid.gov/nepal/newsroom/multimedia': [],\n",
       "  'https://www.usaid.gov/nepal/work-with-us/unsolicited-proposals': ['https://www.usaid.gov/sites/default/files/documents/1861/FACTSHEET%20-%20UNSOLICITED%20APPLICATIONS%20AND%20MEETING%20%26%20INFORMATION%20REQUESTS_09.22.2015.pdf',\n",
       "   'http://fedbizopps.gov'],\n",
       "  'https://www.usaid.gov/nepal/cdcs': ['https://www.usaid.gov/sites/default/files/documents/CDCS-NEPAL-DECEMBER-2025-EXTERNAL_030821.pdf']},\n",
       " 'sri-lanka': {'https://www.usaid.gov/sri-lanka/history': ['https://pdf.usaid.gov/pdf_docs/PDACK908.pdf',\n",
       "   'https://www.usaid.gov/sri-lanka/press-releases/dec-20-2021-us-donates-over-820000-additional-pfizer-biontech-vaccines',\n",
       "   'https://www.usaid.gov/sri-lanka/press-releases/dec-8-2021-usaid-converted-career-bus-returns-home-vta',\n",
       "   'https://www.usaid.gov/sri-lanka/press-releases/dec-2-2021-us-donates-nearly-200000-additional-pfizer-biontech-vaccines',\n",
       "   'https://www.usaid.gov/sri-lanka/press-releases/nov-26-2021-usaid-5-year-19m-project-supports-sri-lanka-renewable-energy-goals',\n",
       "   'https://www.usaid.gov/sri-lanka/press-releases/oct-21-2021-united-states-provides-additional-25-million-urgent-covid'],\n",
       "  'https://www.usaid.gov/sri-lanka/our-stories': ['https://www.usaid.gov/sri-lanka/our-stories/aug-2021-sri-lankan-woman-turns-her-disability-silver-bullet',\n",
       "   'https://www.usaid.gov/sri-lanka/our-stories/aug-2020-women-led-start-benefits-usaid-systemic-support',\n",
       "   'https://www.usaid.gov/sri-lanka/our-stories/aug-2020-usaid-assistance-helps-youth-start-life-changing-career-ict',\n",
       "   'https://www.usaid.gov/sri-lanka/our-stories/aug-2020-mojo-empowers-young-man-serve-his-rural-community',\n",
       "   'https://www.usaid.gov/sri-lanka/our-stories/jun-2020-usaid-supported-skills-development-helps-rural-women-protect-local-communities'],\n",
       "  'https://www.usaid.gov/sri-lanka/careers': ['https://www.usaid.gov/sites/default/files/documents/1877/LOCALLY_EMPLOYED_STAFF_APPLICATION_FORM_DS-174.pdf'],\n",
       "  'https://www.usaid.gov/sri-lanka/partnership-opportunities': [],\n",
       "  'https://www.usaid.gov/sri-lanka/our-work': [],\n",
       "  'https://www.usaid.gov/sri-lanka/economic-growth-and-trade': ['https://www.usaid.gov/sites/default/files/documents/USAID_Sri_Lanka_Economic_Growth_Fact_Sheet_11-2021.pdf'],\n",
       "  'https://www.usaid.gov/sri-lanka/environment-and-energy': ['https://www.usaid.gov/sites/default/files/documents/USAID_Sri_Lanka_EG_11-2021_-_Climate_Change_Adaptation.pdf'],\n",
       "  'https://www.usaid.gov/sri-lanka/democracy-human-rights-and-governance': ['https://www.usaid.gov/sites/default/files/documents/USAID_Sri_Lanka_Governance_and_Vulnerable_Populations_Fact_Sheet_02-2022.pdf'],\n",
       "  'https://www.usaid.gov/sri-lanka/humanitarian-assistance': ['https://www.usaid.gov/humanitarian-assistance/srilanka']},\n",
       " 'thailand': {'https://www.usaid.gov/thailand/history': ['https://www.usaid.gov/thailand/press-releases/feb-7-2022-united-states-provides-thailand-additional-diagnostic-and',\n",
       "   'https://www.usaid.gov/news-information/press-releases/sep-28-2021-administrator-samantha-power-meets-thai-deputy-prime-minister',\n",
       "   'https://www.usaid.gov/asia-regional/press-releases/sep-23-2021-new-partners-group-build-upon-us-thai-success-wildlife-trafficking',\n",
       "   'https://www.usaid.gov/asia-regional/press-releases/aug-13-2021-usaid-and-tica-expand-development-cooperation-look',\n",
       "   'https://www.usaid.gov/asia-regional/press-releases/aug-10-2021-united-states-provides-additional-5-million-urgent'],\n",
       "  'https://www.usaid.gov/asia-regional/lower-mekong-initiative-lmi': ['https://mekonguspartnership.org/',\n",
       "   'https://www.usaid.gov/laos/press-releases/nov-8-2021-usaid-and-fao-provide-12000-covid-19-rapid-tests-lao-pdr'],\n",
       "  'https://www.usaid.gov/thailand/our-work': ['https://www.usaid.gov/sites/default/files/documents/1861/Thailand_Country_Profile.pdf'],\n",
       "  'https://www.usaid.gov/thailand/covid-19-response': [],\n",
       "  'https://www.usaid.gov/thailand/democracy-human-rights-and-governance': [],\n",
       "  'https://www.usaid.gov/thailand/economic-growth-and-trade': [],\n",
       "  'https://www.usaid.gov/thailand/global-health': [],\n",
       "  'https://www.usaid.gov/thailand/peace-and-security': [],\n",
       "  'https://www.usaid.gov/thailand/documents/country-profile-2019': []},\n",
       " 'vietnam': {'https://www.usaid.gov/vietnam/history': ['https://www.usaid.gov/vietnam/documents/solicitation-resident-hire-us-personal-service-contractor-uspsc-development-outreach',\n",
       "   'https://www.usaid.gov/vietnam/press-releases/apr-21-2022-usaid-and-mpi-sign-agreement-expand-cooperation',\n",
       "   'https://www.usaid.gov/vietnam/press-releases/mar-25-2022-usaid-and-unicef-provide-1-million-life-saving-covid-19-supplies',\n",
       "   'https://www.usaid.gov/vietnam/press-releases/mar-8-2022-usaid-and-ministry-justice-sign-memorandum-understanding-improve',\n",
       "   'https://www.usaid.gov/vietnam/press-releases/feb-16-2022-united-states-delivers-new-tools-medications-help-vietnam',\n",
       "   'https://www.usaid.gov/vietnam/press-releases/jan-28-2022-usaid-and-vietnam-ministry-natural-resources-mou'],\n",
       "  'https://www.usaid.gov/vietnam/shared-value-partnership-strategy': ['https://www.usaid.gov/sites/default/files/documents/1861/Vietnam_PSE_Strategy_Exec_Summary_Mar2018.pdf',\n",
       "   'http://www.doingbusiness.org/data/exploreeconomies/vietnam',\n",
       "   'https://goo.gl/KbSfYb',\n",
       "   'https://www.usaid.gov/vietnam/documents/fs-healthymarkets-oct2019-eng'],\n",
       "  'https://www.usaid.gov/vietnam/work-with-us/careers': [],\n",
       "  'https://www.usaid.gov/vietnam/work-with-us/partnership-opportunities': ['https://www.usaid.gov/sites/default/files/documents/1868/Doing_Business_with_USAID_2.12.2020.pdf',\n",
       "   'https://www.usaid.gov/work-usaid/how-to-work-with-usaid'],\n",
       "  'https://www.usaid.gov/vietnam/reports-and-publications': ['https://dec.usaid.gov/dec/search/SearchResults.aspx?q=KERvY3VtZW50cy5EZXNjcmlwdG9yc19HZW9ncmFwaGljOigiVmlldG5hbSIpKQ==&qcf=ODVhZjk4NWQtM2YyMi00YjRmLTkxNjktZTcxMjM2NDBmY2Uy',\n",
       "   'https://pdf.usaid.gov/pdf_docs/PA00X9JC.pdf',\n",
       "   'https://pdf.usaid.gov/pdf_docs/PA00X4RD.pdf',\n",
       "   'https://pdf.usaid.gov/pdf_docs/PA00X876.pdf',\n",
       "   'https://pdf.usaid.gov/pdf_docs/PA00WQTR.pdf',\n",
       "   'http://pdf.usaid.gov/pdf_docs/pa00kv1r.pdf'],\n",
       "  'https://www.usaid.gov/vietnam/tools-usaid-partners': ['https://www.usaid.gov/work-usaid/get-grant-or-contract/trainings-how-work-usaid'],\n",
       "  'https://www.usaid.gov/vietnam/documents/country-profile': [],\n",
       "  'https://www.usaid.gov/vietnam/documents/country-development-cooperation-strategy-vietnam-2020-2025-summary': [],\n",
       "  'https://www.usaid.gov/vietnam/our-work': ['https://www.usaid.gov/sites/default/files/documents/Vietnam_Country_Profile.pdf'],\n",
       "  'https://www.usaid.gov/vietnam/newsroom': ['https://www.usaid.gov/vietnam/program-updates/apr-2022-usaid-support-promotes-government-funding-community-based-hiv-services-vietnam',\n",
       "   'https://www.usaid.gov/vietnam/program-updates/apr-2022-usaid-supported-playbooks-enhance-innovations-engineering-teaching',\n",
       "   'https://www.usaid.gov/vietnam/program-updates/apr-2022-usaid-supported-celebration-vietnam-national-disability-day',\n",
       "   'https://www.usaid.gov/vietnam/news/usaid-supports-vietnam%E2%80%99s-effort-expedite-trade-flows',\n",
       "   'https://www.usaid.gov/vietnam/news/usaid-supports-digital-transformation-vietnam%E2%80%99s-public-administration',\n",
       "   'https://www.usaid.gov/vietnam/news/usaid-supports-local-businesses-fill-digital-skills-shortage-mekong-delta',\n",
       "   'https://www.usaid.gov/vietnam/news/us-ambassador-vietnam-celebrates-world-health-day-honoring-usaid-supported',\n",
       "   'https://www.usaid.gov/vietnam/news/usaid-facilitates-collaboration-between-private-clinics-and-community-based',\n",
       "   'https://www.usaid.gov/vietnam/news/usaid-and-fulbright-university-vietnam-advance-modern-pedagogy-vietnamese',\n",
       "   'https://www.usaid.gov/vietnam/program-updates/apr-2022-usaid-advances-innovation-and-digital-workforce-development-mekong-delta',\n",
       "   'https://www.usaid.gov/vietnam/program-updates/apr-2022-usaid-supports-vietnam-innovation-and-digital-transformation-public-sector',\n",
       "   'https://www.usaid.gov/vietnam/program-updates/apr-2022-usaid-supports-opening-first-key-population-led-prep-clinic-tay-ninh-province',\n",
       "   'https://www.usaid.gov/vietnam/program-updates/apr-2022-usaid-helps-train-9500-healthcare-workers-covid-19-care',\n",
       "   'https://www.usaid.gov/vietnam/program-updates/apr-2022-usaid-helps-improve-farm-biosecurity-vietnam'],\n",
       "  'https://www.usaid.gov/vietnam/improving-governance-for-economic-growth': [],\n",
       "  'https://www.usaid.gov/vietnam/climate-change-energy-and-environment': [],\n",
       "  'https://www.usaid.gov/vietnam/environmental-remediation': [],\n",
       "  'https://www.usaid.gov/vietnam/newsroom/program-updates': ['https://www.usaid.gov/vietnam/program-updates/apr-2022-usaid-supports-small-and-growing-businesses-engage-vietnam-fast-growing'],\n",
       "  'https://www.usaid.gov/vietnam/higher-education': [],\n",
       "  'https://www.usaid.gov/vietnam/health': [],\n",
       "  'https://www.usaid.gov/vietnam/covid-19-assistance': [],\n",
       "  'https://www.usaid.gov/vietnam/persons-with-disabilities': [],\n",
       "  'https://www.usaid.gov/vietnam/cdcs': ['https://www.usaid.gov/sites/default/files/documents/CDCS-Vietnam-2_Page_Summary_Final_Eng_0.pdf',\n",
       "   'https://www.usaid.gov/sites/default/files/documents/CDCS-Vietnam-Extended_Summary_Final_ENG.pdf'],\n",
       "  'https://www.usaid.gov/vietnam/newsroom/press-releases': ['https://www.usaid.gov/vietnam/press-releases/apr-7-2022-usaid-ministry-planning-and-investment-and-leaders-mekong',\n",
       "   'https://www.usaid.gov/vietnam/press-releases/mar-3-2022-us-special-presidential-envoy-climate-john-kerry-announces-fulbright',\n",
       "   'https://www.usaid.gov/vietnam/press-releases/feb-23-2022-usaid-announces-first-awardees-under-new-innovation',\n",
       "   'https://www.usaid.gov/vietnam/press-releases/feb-18-2022-usaid-delivers-lifesaving-equipment-tay-ninh-department',\n",
       "   'https://www.usaid.gov/vietnam/press-releases/jan-18-2022-usaid-launches-project-improve-private-sector',\n",
       "   'https://www.usaid.gov/vietnam/press-releases/nov-23-2021-us-supported-green-index-promote-environmentally-friendly',\n",
       "   'https://www.usaid.gov/vietnam/press-releases/nov-3-2021-us-government-supports-vietnam-introducing-integration',\n",
       "   'https://www.usaid.gov/vietnam/press-releases/oct-29-2021-leadership-group-seeks-new-members-advancing-safer-resilient',\n",
       "   'https://www.usaid.gov/vietnam/press-releases/oct-29-2021-usaid-envisions-women-leaders-energy-sector-southeast-asia',\n",
       "   'https://www.usaid.gov/vietnam/press-releases/oct-28-2021-usaid-announces-renewable-energy-transaction-assistance',\n",
       "   'https://www.usaid.gov/vietnam/press-releases/oct-21-2021-usaid-partners-launch-project-protect-key-coastal-habitats',\n",
       "   'https://www.usaid.gov/vietnam/press-releases/oct-1-2021-new-us-funded-project-promote-vietnam-economic-growth',\n",
       "   'https://www.usaid.gov/vietnam/press-releases/aug-27-2021-us-supported-project-strengthens-vietnam-efforts-protect-wildlife',\n",
       "   'https://www.usaid.gov/vietnam/press-releases/aug-25-2021-vice-president-kamala-harris-announces-new-usaid-assistance',\n",
       "   'https://www.usaid.gov/vietnam/press-releases/jun-30-2021-usaid-partners-danang-city-government-accelerate-renewable',\n",
       "   'https://www.usaid.gov/vietnam/press-releases/apr-28-2021-united-states-contributes-advancing-vietnam-energy-sector',\n",
       "   'https://www.usaid.gov/vietnam/press-releases/apr-28-2021-usaid-launches-two-environmental-conservation-projects-help',\n",
       "   'https://www.usaid.gov/vietnam/press-releases/apr-22-2021-usaid-marks-earth-day-completion-its-vietnam-forests-deltas',\n",
       "   'https://www.usaid.gov/vietnam/press-releases/apr-1-2021-us-congratulates-vietnam-arrival-covid-19-vaccines-covax',\n",
       "   'https://www.usaid.gov/vietnam/press-releases/jan-28-2021-vietnam-scholars-win-another-three-us-scientific-research',\n",
       "   'https://www.usaid.gov/vietnam/press-releases/jan-20-2021-united-states-and-vietnam-celebrate-progress-partnership'],\n",
       "  'https://www.usaid.gov/vietnam/success-stories': ['https://www.usaid.gov/vietnam/results/transforming-lives',\n",
       "   'https://www.usaid.gov/vietnam/success-stories/dec-2020-through-usaid-engagement-village-leaders-pivot-support-women-led-community',\n",
       "   'https://www.usaid.gov/vietnam/success-stories/dec-2020-usaid-helps-children-with-disabilities-cope-covid-19-behavior-change-fun-visual',\n",
       "   'https://www.usaid.gov/vietnam/success-stories/oct-2020-usaid-provides-training-using-mobile-phones-quicker-safer-and-more-transparent',\n",
       "   'https://www.usaid.gov/vietnam/success-stories/oct-2020-usaid-disabilities-family-training-program-provides-skills-support-and-hope',\n",
       "   'https://www.usaid.gov/vietnam/success-stories/sep-2020-usaid-trains-medical-students-support-vietnam-covid-19-response',\n",
       "   'https://www.usaid.gov/vietnam/results/transforming-lives',\n",
       "   'https://www.usaid.gov/vietnam/success-stories/sep-2020-usaid-assistance-improving-teaching-methods-helps-prepare-university-students',\n",
       "   'https://www.usaid.gov/vietnam/success-stories/sep-2020-usaid-equips-health-workers-vietnam-essential-skills-fight-covid-19',\n",
       "   'https://www.usaid.gov/vietnam/success-stories/sep-2020-fulbright-university-vietnam-student-promotes-new-methods-community',\n",
       "   'https://www.usaid.gov/vietnam/program-updates/jul-30-2020-student-attending-usaid-supported-fulbright-university-vietnam-contributes',\n",
       "   'https://www.usaid.gov/vietnam/program-updates/jul-2020-student-innovation-fights-covid-19-vietnam',\n",
       "   'https://www.usaid.gov/vietnam/results/transforming-lives',\n",
       "   'https://www.usaid.gov/vietnam/program-updates/jul-2020-usaid-supported-public-health-student-engages-vietnam-covid-response',\n",
       "   'https://www.usaid.gov/vietnam/success-stories/may-2020-usaid-helps-vietnamese-professor-amplify-innovation-engineering-education',\n",
       "   'https://www.usaid.gov/vietnam/success-stories/may-2019-vietnam-strengthens-law-enforcement-combat-wildlife-trafficking',\n",
       "   'https://www.usaid.gov/vietnam/success-stories/jan-2019-usaid-brings-rehabilitation-services-persons-disabilities-vietnam'],\n",
       "  'https://www.usaid.gov/vietnam/fact-sheets': [],\n",
       "  'https://www.usaid.gov/vietnam/newsroom/multimedia': ['https://www.youtube.com/user/USAIDVietnam/videos',\n",
       "   'https://www.flickr.com/photos/usaid_vietnam/',\n",
       "   'https://www.youtube.com/user/USAIDVietnam/videos',\n",
       "   'https://www.flickr.com/photos/usaid_vietnam/',\n",
       "   'https://www.youtube.com/user/USAIDVietnam/videos',\n",
       "   'https://www.flickr.com/photos/usaid_vietnam/']},\n",
       " 'asia-regional': {'https://www.usaid.gov/asia-regional/history': ['https://www.usaid.gov/thailand/press-releases/feb-7-2022-united-states-provides-thailand-additional-diagnostic-and',\n",
       "   'https://www.usaid.gov/laos/press-releases/nov-8-2021-usaid-and-fao-provide-12000-covid-19-rapid-tests-lao-pdr',\n",
       "   'https://www.usaid.gov/asia-regional/press-releases/sep-23-2021-new-partners-group-build-upon-us-thai-success-wildlife-trafficking',\n",
       "   'https://www.usaid.gov/asia-regional/press-releases/aug-13-2021-usaid-and-tica-expand-development-cooperation-look',\n",
       "   'https://www.usaid.gov/asia-regional/press-releases/aug-10-2021-united-states-provides-additional-5-million-urgent'],\n",
       "  'https://www.usaid.gov/asia-regional/indo-pacific-strategy-united-states': ['https://www.whitehouse.gov/briefing-room/speeches-remarks/2022/02/11/fact-sheet-indo-pacific-strategy-of-the-united-states/',\n",
       "   'https://th.usembassy.gov/th/us-indo-pacific-strategy-th/'],\n",
       "  'https://www.usaid.gov/asia-regional/mekong-us-partnership': ['https://mekonguspartnership.org/'],\n",
       "  'https://www.usaid.gov/asia-regional/reports-and-publications': ['https://dec.usaid.gov/dec/search/SearchResults.aspx?q=KERvY3VtZW50cy5EZXNjcmlwdG9yc19HZW9ncmFwaGljOigiVmlldG5hbSIpKQ==&qcf=ODVhZjk4NWQtM2YyMi00YjRmLTkxNjktZTcxMjM2NDBmY2Uy'],\n",
       "  'https://www.usaid.gov/asia-regional/results/transforming-lives': ['https://www.usaid.gov/results-data/success-stories/powerful-counter-trafficking-content-asia-gets-global-stage',\n",
       "   'https://www.usaid.gov/results-data/success-stories/innovation-elimination-thai-scientist-invents-affordable-microscope',\n",
       "   'https://www.usaid.gov/results-data/success-stories/usaid-helps-bring-clean-fuel-rural-households-cambodia',\n",
       "   'https://www.usaid.gov/results-data/success-stories/thailand-health-care-providers-%E2%80%9Cmotiv8%E2%80%9D-tb-patients',\n",
       "   'https://www.usaid.gov/results-data/success-stories/155-million-views-usaid-and-iom-x-domestic-work-video-hits-home',\n",
       "   'https://www.usaid.gov/results-data/success-stories/earth-engine-drives-environmental-management-vietnam',\n",
       "   'https://www.usaid.gov/results-data/success-stories/embracing-innovative-technology-agriculture',\n",
       "   'https://www.usaid.gov/results-data/success-stories/helping-young-women-gain-opportunities-technology-lower-mekong',\n",
       "   'https://www.usaid.gov/results-data/success-stories/iom-x-video-helps-save-young-man-trafficking',\n",
       "   'https://www.usaid.gov/results-data/success-stories/helping-communities-rural-lao-pdr-access-clean-water',\n",
       "   'https://www.usaid.gov/results-data/success-stories/women-use-solar-power-light-villages-india%E2%80%99s-rural-rajasthan',\n",
       "   'https://www.usaid.gov/results-data/success-stories/usaid-partners-preventive-nutrition-protecting-mothers-and-children',\n",
       "   'https://www.usaid.gov/results-data/success-stories/thousands-cambodian-migrants-learn-about-safe-migration',\n",
       "   'https://www.usaid.gov/results-data/success-stories/mobile-app-helps-officers-protect-wildlife',\n",
       "   'https://www.usaid.gov/results-data/success-stories/music-video-helps-raise-awareness-human-trafficking'],\n",
       "  'https://www.usaid.gov/asia-regional/careers': [],\n",
       "  'https://www.usaid.gov/asia-regional/business-opportunities': [],\n",
       "  'https://www.workwithusaid.org/': [],\n",
       "  'https://www.usaid.gov/asia-regional/fact-sheets/us-asean-summit-vientiane-laos': [],\n",
       "  'https://www.usaid.gov/asia-regional/fact-sheets/us-asean-connect': [],\n",
       "  'https://www.usaid.gov/asia-regional/fact-sheets/us-efforts-address-trafficking-persons-and-irregular-migration-east': [],\n",
       "  'https://www.usaid.gov/asia-regional/our-work': ['https://www.usaid.gov/sites/default/files/documents/1861/RDMA_Regional_Profile.pdf'],\n",
       "  'https://www.usaid.gov/asia-regional/economic-growth-and-trade': ['https://www.usaid.gov/asia-regional/newsroom/fact-sheets',\n",
       "   'https://www.usaid.gov/indo-pacific-vision',\n",
       "   'https://www.usaid.gov/sites/default/files/documents/1861/July_8_Asia_EDGE_Factsheet.pdf'],\n",
       "  'https://www.usaid.gov/asia-regional/environment': [],\n",
       "  'https://www.usaid.gov/asia-regional/global-health': ['http://www.pmi.gov/'],\n",
       "  'https://www.usaid.gov/asia-regional/peace-and-security': [],\n",
       "  'https://www.usaid.gov/asia-regional/covid-19-response': [],\n",
       "  'https://www.usaid.gov/asia-regional/gender-equality-and-female-empowerment': ['http://www.ssireview.org/articles/entry/the_rise_of_gender_capitalism',\n",
       "   'http://asiapacificadapt.net/gender-sourcebook/']}}"
      ]
     },
     "execution_count": 144,
     "metadata": {},
     "output_type": "execute_result"
    }
   ],
   "source": [
    "dict(added_dict)"
   ]
  },
  {
   "cell_type": "code",
   "execution_count": 91,
   "id": "012dce68-6b3b-42f4-b41c-444fbebdfe46",
   "metadata": {},
   "outputs": [
    {
     "data": {
      "text/plain": [
       "{'dictionary_item_added': [root['afg']['menu_2'], root['afg']['menu_3']],\n",
       " 'iterable_item_added': {\"root['afg']['menu_1'][0]\": 'val2'}}"
      ]
     },
     "execution_count": 91,
     "metadata": {},
     "output_type": "execute_result"
    }
   ],
   "source": [
    "test_diff"
   ]
  },
  {
   "cell_type": "code",
   "execution_count": null,
   "id": "39ffa10d-a611-4d4f-a268-1f3f254953d3",
   "metadata": {},
   "outputs": [],
   "source": []
  }
 ],
 "metadata": {
  "kernelspec": {
   "display_name": "Python 3 (ipykernel)",
   "language": "python",
   "name": "python3"
  },
  "language_info": {
   "codemirror_mode": {
    "name": "ipython",
    "version": 3
   },
   "file_extension": ".py",
   "mimetype": "text/x-python",
   "name": "python",
   "nbconvert_exporter": "python",
   "pygments_lexer": "ipython3",
   "version": "3.9.10"
  }
 },
 "nbformat": 4,
 "nbformat_minor": 5
}
